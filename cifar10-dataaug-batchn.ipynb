{
  "nbformat": 4,
  "nbformat_minor": 0,
  "metadata": {
    "colab": {
      "name": "cifar10 DATAAUG & BATCHN.ipynb",
      "provenance": [],
      "collapsed_sections": [],
      "authorship_tag": "ABX9TyPVO3D2MQOAx+MCe4cjEe7v"
    },
    "kernelspec": {
      "name": "python3",
      "display_name": "Python 3"
    },
    "language_info": {
      "name": "python"
    }
  },
  "cells": [
    {
      "cell_type": "code",
      "metadata": {
        "colab": {
          "base_uri": "https://localhost:8080/"
        },
        "id": "d8cvXO730Cn2",
        "outputId": "75e3ad15-33cd-454f-aeef-9a449fe3c6fb"
      },
      "source": [
        "import tensorflow as tf\n",
        "from tensorflow import keras\n",
        "from keras.datasets import cifar10\n",
        "from keras.preprocessing.image import ImageDataGenerator\n",
        "from keras.models import Sequential\n",
        "from keras.layers import Dense, Dropout, Activation, Flatten, BatchNormalization\n",
        "from keras.layers import Conv2D, MaxPooling2D\n",
        "\n",
        "import numpy as np\n",
        "\n",
        "import matplotlib.pyplot as plt\n",
        "\n",
        "\n",
        "\n",
        "class_names = ['airplane','automobile','bird','cat','deer',\n",
        "               'dog','frog','horse','ship','truck']\n",
        "num_classes = len(class_names)\n",
        "\n",
        "(x_train, y_train), (x_test, y_test) = cifar10.load_data()\n",
        "\n",
        "#plt.imshow(X_train[10])\n",
        "\n",
        "# Convert class vectors to binary class matrices.\n",
        "y_train = keras.utils.to_categorical(y_train, num_classes)\n",
        "y_test = keras.utils.to_categorical(y_test, num_classes)\n",
        "\n",
        "x_train = x_train.astype('float32') / 255.\n",
        "x_test = x_test.astype('float32') / 255.\n",
        "\n",
        "model = tf.keras.models.Sequential() \n",
        "model.add(tf.keras.layers.Conv2D(32, (3, 3), padding='same', activation='relu' , input_shape=x_train.shape[1:])) \n",
        "model.add(BatchNormalization())\n",
        "model.add(Dropout(0.2))\n",
        "model.add(tf.keras.layers.MaxPooling2D(pool_size=(2, 2), strides=(2,2))) \n",
        "model.add(tf.keras.layers.Conv2D(64, (3, 3), padding='same', activation='relu', ))\n",
        "model.add(BatchNormalization())\n",
        "model.add(Dropout(0.2)) \n",
        "model.add(tf.keras.layers.MaxPooling2D(pool_size=(2, 2), strides=(2,2))) \n",
        "model.add(tf.keras.layers.Conv2D(128, (3, 3), padding='same', activation='relu')) \n",
        "model.add(BatchNormalization())\n",
        "model.add(Dropout(0.2))\n",
        "model.add(tf.keras.layers.MaxPooling2D(pool_size=(2, 2), strides=(2,2)))\n",
        "model.add(tf.keras.layers.Conv2D(256, (3, 3), padding='same', activation='relu'))\n",
        "model.add(BatchNormalization())\n",
        "model.add(Dropout(0.2)) \n",
        "model.add(tf.keras.layers.MaxPooling2D(pool_size=(2, 2), strides=(2,2)))\n",
        "model.add(tf.keras.layers.Conv2D(512, (3, 3), padding='same', activation='relu'))\n",
        "model.add(Dropout(0.2)) \n",
        "model.add(tf.keras.layers.MaxPooling2D(pool_size=(2, 2), strides=(2,2)))\n",
        "\n",
        "model.add(tf.keras.layers.Flatten()) \n",
        "model.add(tf.keras.layers.Dense(128, activation=tf.nn.relu)) \n",
        "model.add(Dropout(0.2)) \n",
        "model.add(tf.keras.layers.Dense(256, activation=tf.nn.relu))\n",
        "model.add(Dropout(0.2)) \n",
        "model.add(tf.keras.layers.Dense(10, activation=tf.nn.softmax)) \n",
        "'''model = Sequential()\n",
        "model.add(Conv2D(32, (3, 3), padding='same',\n",
        "                 input_shape=X_train.shape[1:], activation='relu'))\n",
        "model.add(MaxPooling2D(pool_size=(2, 2)))\n",
        "model.add(Dropout(0.2))\n",
        "\n",
        "model.add(Flatten())\n",
        "model.add(Dense(100, activation='relu'))\n",
        "model.add(Dropout(0.2))\n",
        "model.add(Dense(num_classes, activation='softmax'))'''\n",
        "\n",
        "model.compile(loss='categorical_crossentropy',\n",
        "              optimizer=\"adam\",\n",
        "              metrics=['accuracy'])\n",
        "\n",
        "datagen = ImageDataGenerator()\n",
        "datagen.fit(x_train)\n",
        "\n",
        "\n",
        "model.fit_generator(datagen.flow(x_train, y_train, batch_size=256),\n",
        "                        steps_per_epoch=x_train.shape[0] // 256,\n",
        "                        epochs=10,\n",
        "                        validation_data=(x_test, y_test)\n",
        ")\n",
        "score = model.evaluate(x_test, y_test) \n",
        "print('Test loss:', score[0]) \n",
        "print('Test accuracy:', score[1])\n"
      ],
      "execution_count": 4,
      "outputs": [
        {
          "output_type": "stream",
          "text": [
            "/usr/local/lib/python3.7/dist-packages/tensorflow/python/keras/engine/training.py:1940: UserWarning: `Model.fit_generator` is deprecated and will be removed in a future version. Please use `Model.fit`, which supports generators.\n",
            "  warnings.warn('`Model.fit_generator` is deprecated and '\n"
          ],
          "name": "stderr"
        },
        {
          "output_type": "stream",
          "text": [
            "Epoch 1/10\n",
            "195/195 [==============================] - 588s 3s/step - loss: 1.6464 - accuracy: 0.3931 - val_loss: 3.4169 - val_accuracy: 0.1225\n",
            "Epoch 2/10\n",
            "195/195 [==============================] - 600s 3s/step - loss: 1.1919 - accuracy: 0.5738 - val_loss: 4.2998 - val_accuracy: 0.1756\n",
            "Epoch 3/10\n",
            "195/195 [==============================] - 595s 3s/step - loss: 0.9934 - accuracy: 0.6518 - val_loss: 1.2915 - val_accuracy: 0.5618\n",
            "Epoch 4/10\n",
            "195/195 [==============================] - 588s 3s/step - loss: 0.8573 - accuracy: 0.7021 - val_loss: 0.9908 - val_accuracy: 0.6537\n",
            "Epoch 5/10\n",
            "195/195 [==============================] - 585s 3s/step - loss: 0.7598 - accuracy: 0.7355 - val_loss: 1.1705 - val_accuracy: 0.6177\n",
            "Epoch 6/10\n",
            "195/195 [==============================] - 558s 3s/step - loss: 0.6792 - accuracy: 0.7661 - val_loss: 0.9248 - val_accuracy: 0.7057\n",
            "Epoch 7/10\n",
            "195/195 [==============================] - 572s 3s/step - loss: 0.6243 - accuracy: 0.7849 - val_loss: 0.7898 - val_accuracy: 0.7350\n",
            "Epoch 8/10\n",
            "195/195 [==============================] - 565s 3s/step - loss: 0.5648 - accuracy: 0.8055 - val_loss: 0.9094 - val_accuracy: 0.7035\n",
            "Epoch 9/10\n",
            "195/195 [==============================] - 564s 3s/step - loss: 0.5179 - accuracy: 0.8218 - val_loss: 1.2762 - val_accuracy: 0.5971\n",
            "Epoch 10/10\n",
            "195/195 [==============================] - 558s 3s/step - loss: 0.4860 - accuracy: 0.8323 - val_loss: 0.7298 - val_accuracy: 0.7632\n",
            "313/313 [==============================] - 12s 38ms/step - loss: 0.7298 - accuracy: 0.7632\n",
            "Test loss: 0.7297764420509338\n",
            "Test accuracy: 0.7631999850273132\n"
          ],
          "name": "stdout"
        }
      ]
    }
  ]
}